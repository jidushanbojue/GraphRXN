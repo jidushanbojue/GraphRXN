{
 "cells": [
  {
   "cell_type": "code",
   "execution_count": null,
   "metadata": {},
   "outputs": [],
   "source": [
    "#hide\n",
    "%load_ext autoreload\n",
    "%autoreload 2"
   ]
  },
  {
   "cell_type": "markdown",
   "metadata": {},
   "source": [
    "# Results - Generate TMAP\n",
    "\n",
    "> Cluster 50k reaction data set by Schneider et al. using TMAP"
   ]
  },
  {
   "cell_type": "code",
   "execution_count": null,
   "metadata": {},
   "outputs": [],
   "source": [
    "# hide\n",
    "import json\n",
    "import numpy as np\n",
    "import pandas as pd\n",
    "import tmap as tm\n",
    "from tqdm import tqdm \n",
    "from faerun import Faerun\n",
    "import matplotlib.pyplot as plt\n",
    "from matplotlib.colors import ListedColormap\n",
    "\n",
    "from scipy import stats\n",
    "from rdkit import Chem\n",
    "from rdkit.Chem import AllChem, Descriptors, Descriptors3D\n",
    "from matplotlib.colors import LinearSegmentedColormap\n"
   ]
  },
  {
   "cell_type": "markdown",
   "metadata": {},
   "source": [
    "### Load data and generate minhash fingerprints"
   ]
  },
  {
   "cell_type": "code",
   "execution_count": null,
   "metadata": {},
   "outputs": [],
   "source": [
    "lf = tm.LSHForest(256, 128)\n",
    "mh_encoder = tm.Minhash()"
   ]
  },
  {
   "cell_type": "code",
   "execution_count": null,
   "metadata": {},
   "outputs": [
    {
     "data": {
      "text/html": [
       "<div>\n",
       "<style scoped>\n",
       "    .dataframe tbody tr th:only-of-type {\n",
       "        vertical-align: middle;\n",
       "    }\n",
       "\n",
       "    .dataframe tbody tr th {\n",
       "        vertical-align: top;\n",
       "    }\n",
       "\n",
       "    .dataframe thead th {\n",
       "        text-align: right;\n",
       "    }\n",
       "</style>\n",
       "<table border=\"1\" class=\"dataframe\">\n",
       "  <thead>\n",
       "    <tr style=\"text-align: right;\">\n",
       "      <th></th>\n",
       "      <th>original_rxn</th>\n",
       "      <th>rxn_class</th>\n",
       "      <th>source</th>\n",
       "      <th>rxn</th>\n",
       "      <th>split</th>\n",
       "      <th>rxn_category</th>\n",
       "      <th>rxn_superclass</th>\n",
       "    </tr>\n",
       "  </thead>\n",
       "  <tbody>\n",
       "    <tr>\n",
       "      <th>0</th>\n",
       "      <td>[CH3:17][S:14](=[O:15])(=[O:16])[N:11]1[CH2:10...</td>\n",
       "      <td>6.1.5</td>\n",
       "      <td>US06887874</td>\n",
       "      <td>C1CCCCC1.CCO.CS(=O)(=O)N1CCN(Cc2ccccc2)CC1.[OH...</td>\n",
       "      <td>test</td>\n",
       "      <td>6.1</td>\n",
       "      <td>6</td>\n",
       "    </tr>\n",
       "    <tr>\n",
       "      <th>1</th>\n",
       "      <td>O.O.[Na+].[CH3:1][c:2]1[cH:7][c:6]([N+:8](=O)[...</td>\n",
       "      <td>7.1.1</td>\n",
       "      <td>US07056926</td>\n",
       "      <td>CCOC(C)=O.Cc1cc([N+](=O)[O-])ccc1NC(=O)c1ccccc...</td>\n",
       "      <td>test</td>\n",
       "      <td>7.1</td>\n",
       "      <td>7</td>\n",
       "    </tr>\n",
       "    <tr>\n",
       "      <th>2</th>\n",
       "      <td>[CH3:1][O:2][c:3]1[cH:4][cH:5][c:6](-[c:9]2[cH...</td>\n",
       "      <td>1.8.5</td>\n",
       "      <td>US08492378</td>\n",
       "      <td>COc1ccc(-c2coc3ccc(-c4nnc(S)o4)cc23)cc1.COc1cc...</td>\n",
       "      <td>test</td>\n",
       "      <td>1.8</td>\n",
       "      <td>1</td>\n",
       "    </tr>\n",
       "    <tr>\n",
       "      <th>3</th>\n",
       "      <td>Cl.[CH3:43][CH2:42][S:44](=[O:45])(=[O:46])Cl....</td>\n",
       "      <td>2.2.3</td>\n",
       "      <td>US08592454</td>\n",
       "      <td>CCS(=O)(=O)Cl.CN(C(=O)N(C)[C@@H]1CN(C(=O)C2CCN...</td>\n",
       "      <td>train</td>\n",
       "      <td>2.2</td>\n",
       "      <td>2</td>\n",
       "    </tr>\n",
       "    <tr>\n",
       "      <th>4</th>\n",
       "      <td>[CH3:25][O:24][c:21]1[cH:22][cH:23][c:17]([O:1...</td>\n",
       "      <td>1.3.7</td>\n",
       "      <td>US06716851</td>\n",
       "      <td>COc1ccc(OC)c(N)c1.Cc1cc(Cl)nc(-c2ccccn2)n1&gt;&gt;CO...</td>\n",
       "      <td>test</td>\n",
       "      <td>1.3</td>\n",
       "      <td>1</td>\n",
       "    </tr>\n",
       "  </tbody>\n",
       "</table>\n",
       "</div>"
      ],
      "text/plain": [
       "                                        original_rxn rxn_class      source  \\\n",
       "0  [CH3:17][S:14](=[O:15])(=[O:16])[N:11]1[CH2:10...     6.1.5  US06887874   \n",
       "1  O.O.[Na+].[CH3:1][c:2]1[cH:7][c:6]([N+:8](=O)[...     7.1.1  US07056926   \n",
       "2  [CH3:1][O:2][c:3]1[cH:4][cH:5][c:6](-[c:9]2[cH...     1.8.5  US08492378   \n",
       "3  Cl.[CH3:43][CH2:42][S:44](=[O:45])(=[O:46])Cl....     2.2.3  US08592454   \n",
       "4  [CH3:25][O:24][c:21]1[cH:22][cH:23][c:17]([O:1...     1.3.7  US06716851   \n",
       "\n",
       "                                                 rxn  split rxn_category  \\\n",
       "0  C1CCCCC1.CCO.CS(=O)(=O)N1CCN(Cc2ccccc2)CC1.[OH...   test          6.1   \n",
       "1  CCOC(C)=O.Cc1cc([N+](=O)[O-])ccc1NC(=O)c1ccccc...   test          7.1   \n",
       "2  COc1ccc(-c2coc3ccc(-c4nnc(S)o4)cc23)cc1.COc1cc...   test          1.8   \n",
       "3  CCS(=O)(=O)Cl.CN(C(=O)N(C)[C@@H]1CN(C(=O)C2CCN...  train          2.2   \n",
       "4  COc1ccc(OC)c(N)c1.Cc1cc(Cl)nc(-c2ccccn2)n1>>CO...   test          1.3   \n",
       "\n",
       "  rxn_superclass  \n",
       "0              6  \n",
       "1              7  \n",
       "2              1  \n",
       "3              2  \n",
       "4              1  "
      ]
     },
     "execution_count": null,
     "metadata": {},
     "output_type": "execute_result"
    }
   ],
   "source": [
    "#hide\n",
    "# data\n",
    "with open('../data/rxnclass2name.json', 'r') as f:\n",
    "    rxnclass2name = json.load(f)\n",
    "schneider_df = pd.read_csv('../data/schneider50k.tsv', sep='\\t', index_col=0)\n",
    "ft_10k_fps = np.load('../data/fps_ft_10k.npz')['fps']\n",
    "schneider_df['rxn_category'] = schneider_df.rxn_class.apply(lambda x: '.'.join(x.split('.')[:2]))\n",
    "schneider_df['rxn_superclass'] = schneider_df.rxn_class.apply(lambda x: x.split('.')[0])\n",
    "schneider_df.head()"
   ]
  },
  {
   "cell_type": "code",
   "execution_count": null,
   "metadata": {},
   "outputs": [
    {
     "name": "stderr",
     "output_type": "stream",
     "text": [
      "100%|██████████| 50000/50000 [00:15<00:00, 3213.43it/s]\n"
     ]
    }
   ],
   "source": [
    "# slow\n",
    "mhfps = [mh_encoder.from_weight_array(fp.tolist(), method=\"I2CWS\") for fp in tqdm(ft_10k_fps)]"
   ]
  },
  {
   "cell_type": "markdown",
   "metadata": {},
   "source": [
    "\n",
    "### Calculate rxn properties"
   ]
  },
  {
   "cell_type": "code",
   "execution_count": null,
   "metadata": {},
   "outputs": [
    {
     "name": "stderr",
     "output_type": "stream",
     "text": [
      "100%|██████████| 50000/50000 [00:50<00:00, 987.99it/s] \n"
     ]
    }
   ],
   "source": [
    "# slow\n",
    "\n",
    "labels = []\n",
    "# superclasses\n",
    "superclasses = []\n",
    "\n",
    "# product properties\n",
    "tpsa = []\n",
    "logp = []\n",
    "mw = []\n",
    "h_acceptors = []\n",
    "h_donors = []\n",
    "ring_count = []\n",
    "\n",
    "# metals in precursors\n",
    "has_Pd = []\n",
    "has_Li = []\n",
    "has_Mg = []\n",
    "has_Al = []\n",
    "\n",
    "for i, row in tqdm(schneider_df.iterrows(), total=len(schneider_df)):\n",
    "\n",
    "    rxn = row[\"rxn\"]\n",
    "    labels.append(\n",
    "        str(rxn)\n",
    "        + \"__\"\n",
    "        + str(rxn)\n",
    "        + f\"__{row['source']}\"\n",
    "        + f\"__{rxnclass2name[row['rxn_class']]} - {row['rxn_class']}\"\n",
    "        + f\"__{rxnclass2name[row['rxn_category']]}\"\n",
    "        + f\"__{rxnclass2name[row['rxn_superclass']]}\"\n",
    "    )\n",
    "    superclasses.append(int(row[\"rxn_superclass\"]))\n",
    "    \n",
    "    precursors, products = rxn.split('>>')\n",
    "\n",
    "    mol = Chem.MolFromSmiles(products)\n",
    "            \n",
    "    tpsa.append(Descriptors.TPSA(mol))\n",
    "    logp.append(Descriptors.MolLogP(mol))\n",
    "    mw.append(Descriptors.MolWt(mol))\n",
    "    h_acceptors.append(Descriptors.NumHAcceptors(mol))\n",
    "    h_donors.append(Descriptors.NumHDonors(mol))\n",
    "    ring_count.append(Descriptors.RingCount(mol))\n",
    "    \n",
    "    has_Pd.append('Pd' in precursors)\n",
    "    has_Li.append('Li' in precursors)\n",
    "    has_Mg.append('Mg' in precursors)\n",
    "    has_Al.append('Al' in precursors)\n",
    "tpsa_ranked = stats.rankdata(np.array(tpsa) / max(tpsa)) / len(tpsa)\n",
    "logp_ranked = stats.rankdata(np.array(logp) / max(logp)) / len(logp)\n",
    "mw_ranked = stats.rankdata(np.array(mw) / max(mw)) / len(mw)\n",
    "h_acceptors_ranked = stats.rankdata(np.array(h_acceptors) / max(h_acceptors)) / len(\n",
    "    h_acceptors\n",
    ")\n",
    "h_donors_ranked = stats.rankdata(np.array(h_donors) / max(h_donors)) / len(h_donors)\n",
    "ring_count_ranked = stats.rankdata(np.array(ring_count) / max(ring_count)) / len(\n",
    "    ring_count\n",
    ")\n",
    "labels_groups, groups = Faerun.create_categories(superclasses)\n",
    "\n",
    "labels_groups = [(label[0], f\"{label[1]} - {rxnclass2name[str(label[1])]}\") for label in labels_groups]\n"
   ]
  },
  {
   "cell_type": "markdown",
   "metadata": {},
   "source": [
    "### Configure LSH forest "
   ]
  },
  {
   "cell_type": "code",
   "execution_count": null,
   "metadata": {},
   "outputs": [],
   "source": [
    "# slow\n",
    "lf.batch_add(mhfps)\n",
    "lf.index()\n",
    "\n",
    "# Layout\n",
    "cfg = tm.LayoutConfiguration()\n",
    "cfg.k = 50\n",
    "cfg.kc = 50\n",
    "cfg.sl_scaling_min = 1.0\n",
    "cfg.sl_scaling_max = 1.0\n",
    "cfg.sl_repeats = 1\n",
    "cfg.sl_extra_scaling_steps = 2\n",
    "cfg.placer = tm.Placer.Barycenter\n",
    "cfg.merger = tm.Merger.LocalBiconnected\n",
    "cfg.merger_factor = 2.0\n",
    "cfg.merger_adjustment = 0\n",
    "cfg.fme_iterations = 1000\n",
    "cfg.sl_scaling_type = tm.ScalingType.RelativeToDesiredLength\n",
    "cfg.node_size = 1 / 37\n",
    "cfg.mmm_repeats = 1\n",
    "\n",
    "# Define colormaps\n",
    "set1 = plt.get_cmap(\"Set1\").colors\n",
    "rainbow = plt.get_cmap(\"rainbow\")\n",
    "colors = rainbow(np.linspace(0, 1, len(set(groups))))[:, :3].tolist()\n",
    "custom_cm = LinearSegmentedColormap.from_list(\"my_map\", colors, N=len(colors))\n",
    "bin_cmap = ListedColormap([set1[8], \"#5400F6\"], name=\"bin_cmap\")\n",
    "\n",
    "# Get tree coordinates\n",
    "x, y, s, t, _ = tm.layout_from_lsh_forest(lf, config=cfg)"
   ]
  },
  {
   "cell_type": "markdown",
   "metadata": {},
   "source": [
    "### Create Fearun plot "
   ]
  },
  {
   "cell_type": "code",
   "execution_count": null,
   "metadata": {},
   "outputs": [],
   "source": [
    "# slow\n",
    "f = Faerun(clear_color=\"#ffffff\", coords=False, view=\"front\",)\n",
    "    \n",
    "f.add_scatter(\n",
    "\"ReactionAtlas\",\n",
    "{\n",
    "    \"x\": x, \"y\": y, \n",
    "    \"c\": [\n",
    "        groups, # superclasses\n",
    "        has_Pd, \n",
    "        has_Li, \n",
    "        has_Mg, \n",
    "        has_Al,\n",
    "        tpsa_ranked,\n",
    "        logp_ranked,\n",
    "        mw_ranked,\n",
    "        h_acceptors_ranked,\n",
    "        h_donors_ranked,\n",
    "        ring_count_ranked,\n",
    "    ], \n",
    "    \"labels\": labels\n",
    "},\n",
    "shader=\"smoothCircle\",\n",
    "colormap=[\n",
    "    custom_cm, \n",
    "    bin_cmap, \n",
    "    bin_cmap, \n",
    "    bin_cmap, \n",
    "    bin_cmap, \n",
    "    \"rainbow\",\n",
    "    \"rainbow\",\n",
    "    \"rainbow\",\n",
    "    \"rainbow\",\n",
    "    \"rainbow\",\n",
    "    \"rainbow\",\n",
    "\n",
    "],\n",
    "point_scale=2.0,\n",
    "categorical=[\n",
    "    True, \n",
    "    True, \n",
    "    True, \n",
    "    True, \n",
    "    True, \n",
    "    False, \n",
    "    False, \n",
    "    False, \n",
    "    False, \n",
    "    False, \n",
    "    False, \n",
    "],\n",
    "has_legend=True,\n",
    "legend_labels=[\n",
    "    labels_groups,\n",
    "    [(0, \"No\"), (1, \"Yes\")],\n",
    "    [(0, \"No\"), (1, \"Yes\")],\n",
    "    [(0, \"No\"), (1, \"Yes\")],\n",
    "    [(0, \"No\"), (1, \"Yes\")],\n",
    "    None,\n",
    "    None,\n",
    "    None,\n",
    "    None,\n",
    "    None,\n",
    "    None,\n",
    "],\n",
    "selected_labels=[\"SMILES\", \"SMILES\", \"Patent ID\",  \"Named Reaction\", \"Category\", \"Superclass\"],\n",
    "series_title=[\n",
    "    \"Superclass\", \n",
    "    \"Pd\", \n",
    "    \"Li\", \n",
    "    \"Mg\", \n",
    "    \"Al\",\n",
    "    \"TPSA\",\n",
    "    \"logP\",\n",
    "    \"Mol Weight\",\n",
    "    \"H Acceptors\",\n",
    "    \"H Donors\",\n",
    "    \"Ring Count\",\n",
    "],\n",
    "max_legend_label=[\n",
    "    None,\n",
    "    None,\n",
    "    None,\n",
    "    None,\n",
    "    None,\n",
    "    str(round(max(tpsa))),\n",
    "    str(round(max(logp))),\n",
    "    str(round(max(mw))),\n",
    "    str(round(max(h_acceptors))),\n",
    "    str(round(max(h_donors))),\n",
    "    str(round(max(ring_count))),\n",
    "],\n",
    "min_legend_label=[\n",
    "    None,\n",
    "    None,\n",
    "    None,\n",
    "    None,\n",
    "    None,\n",
    "    str(round(min(tpsa))),\n",
    "    str(round(min(logp))),\n",
    "    str(round(min(mw))),\n",
    "    str(round(min(h_acceptors))),\n",
    "    str(round(min(h_donors))),\n",
    "    str(round(min(ring_count))),\n",
    "],\n",
    "title_index=2,\n",
    "legend_title=\"\",\n",
    ")\n",
    "\n",
    "f.add_tree(\"reactiontree\", {\"from\": s, \"to\": t}, point_helper=\"ReactionAtlas\")"
   ]
  },
  {
   "cell_type": "code",
   "execution_count": null,
   "metadata": {},
   "outputs": [
    {
     "data": {
      "text/html": [
       "\n",
       "        <iframe\n",
       "            width=\"100%\"\n",
       "            height=\"500\"\n",
       "            src=\"./ft_10k_schneider_50k.html\"\n",
       "            frameborder=\"0\"\n",
       "            allowfullscreen\n",
       "        ></iframe>\n",
       "        "
      ],
      "text/plain": [
       "<IPython.lib.display.IFrame at 0x1430a28d0>"
      ]
     },
     "metadata": {},
     "output_type": "display_data"
    },
    {
     "data": {
      "text/html": [
       "<a href='./ft_10k_schneider_50k.html' target='_blank'>./ft_10k_schneider_50k.html</a><br>"
      ],
      "text/plain": [
       "/Users/phs/git/colab/bert/rxnfp/rxnfp_release/nbs/ft_10k_schneider_50k.html"
      ]
     },
     "metadata": {},
     "output_type": "display_data"
    }
   ],
   "source": [
    "# hide\n",
    "# slow\n",
    "plot = f.plot(\"ft_10k_schneider_50k\", template=\"reaction_smiles\")"
   ]
  },
  {
   "cell_type": "markdown",
   "metadata": {},
   "source": [
    "### Result\n",
    "\n",
    "The result of running `f.plot(\"ft_10k_schneider_50k\", template=\"reaction_smiles\")` is:\n",
    "\n",
    "\n",
    "\n",
    "<div style=\"text-align: center\">\n",
    "<img src='images/sample_tmap.jpg' width='800'>\n",
    "<p style=\"text-align: center;\"> <b>Figure:</b> Reaction atlas of 50k Schneider data set. Product and precursor properties are highlighted in the different layers. </p>\n",
    "</div>"
   ]
  },
  {
   "cell_type": "markdown",
   "metadata": {},
   "source": [
    "### Interative version\n",
    "\n",
    "An interactive reaction atlas made from the same data set and fingerprint can be found here (**[link](../tmaps/tmap_ft_10k.html)**)."
   ]
  }
 ],
 "metadata": {
  "kernelspec": {
   "display_name": "Python 3",
   "language": "python",
   "name": "python3"
  },
  "language_info": {
   "codemirror_mode": {
    "name": "ipython",
    "version": 3
   },
   "file_extension": ".py",
   "mimetype": "text/x-python",
   "name": "python",
   "nbconvert_exporter": "python",
   "pygments_lexer": "ipython3",
   "version": "3.6.13"
  }
 },
 "nbformat": 4,
 "nbformat_minor": 4
}
