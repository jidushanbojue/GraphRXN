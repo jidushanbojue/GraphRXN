{
 "cells": [
  {
   "cell_type": "code",
   "execution_count": null,
   "metadata": {},
   "outputs": [],
   "source": [
    "#hide\n",
    "from rxnfp.core import *"
   ]
  },
  {
   "cell_type": "markdown",
   "metadata": {},
   "source": [
    "# RXNFP - chemical reaction fingerprints\n",
    "\n",
    "> This library generates chemical reaction fingerprints from reaction SMILES"
   ]
  },
  {
   "cell_type": "markdown",
   "metadata": {},
   "source": [
    "## Install"
   ]
  },
  {
   "cell_type": "markdown",
   "metadata": {},
   "source": [
    "For all installations, we recommend using `conda` to get the necessary `rdkit` and `tmap` dependencies:\n",
    "\n",
    "### From pypi\n",
    "\n",
    "```console\n",
    "conda create -n rxnfp python=3.6 -y\n",
    "conda activate rxnfp\n",
    "conda install -c rdkit rdkit=2020.03.3 -y\n",
    "conda install -c tmap tmap -y\n",
    "pip install rxnfp\n",
    "```\n",
    "\n",
    "\n",
    "### From github\n",
    "```console\n",
    "conda create -n rxnfp python=3.6 -y\n",
    "conda activate rxnfp\n",
    "conda install -c rdkit rdkit=2020.03.3 -y\n",
    "conda install -c tmap tmap -y\n",
    "git clone git@github.com:rxn4chemistry/rxnfp.git\n",
    "cd rxnfp\n",
    "pip install -e .\n",
    "```"
   ]
  },
  {
   "cell_type": "markdown",
   "metadata": {},
   "source": [
    "## How to use\n",
    "\n",
    "Compute a fingerprint from a reaction SMILES\n",
    "```python\n",
    "```"
   ]
  },
  {
   "cell_type": "code",
   "execution_count": null,
   "metadata": {},
   "outputs": [
    {
     "name": "stdout",
     "output_type": "stream",
     "text": [
      "256\n",
      "[-2.0174953937530518, 1.7602033615112305, -1.3323537111282349, -1.1095019578933716, 1.2254549264907837]\n"
     ]
    }
   ],
   "source": [
    "from rxnfp.transformer_fingerprints import (\n",
    "    RXNBERTFingerprintGenerator, get_default_model_and_tokenizer, generate_fingerprints\n",
    ")\n",
    "\n",
    "model, tokenizer = get_default_model_and_tokenizer()\n",
    "\n",
    "rxnfp_generator = RXNBERTFingerprintGenerator(model, tokenizer)\n",
    "\n",
    "example_rxn = \"Nc1cccc2cnccc12.O=C(O)c1cc([N+](=O)[O-])c(Sc2c(Cl)cncc2Cl)s1>>O=C(Nc1cccc2cnccc12)c1cc([N+](=O)[O-])c(Sc2c(Cl)cncc2Cl)s1\"\n",
    "\n",
    "fp = rxnfp_generator.convert(example_rxn)\n",
    "print(len(fp))\n",
    "print(fp[:5])"
   ]
  },
  {
   "cell_type": "markdown",
   "metadata": {},
   "source": [
    "Or for a list of reactions:"
   ]
  },
  {
   "cell_type": "code",
   "execution_count": null,
   "metadata": {},
   "outputs": [
    {
     "name": "stdout",
     "output_type": "stream",
     "text": [
      "2 256\n"
     ]
    }
   ],
   "source": [
    "rxns = [example_rxn, example_rxn]\n",
    "fps = rxnfp_generator.convert_batch(rxns)\n",
    "print(len(fps), len(fps[0]))"
   ]
  },
  {
   "cell_type": "markdown",
   "metadata": {},
   "source": [
    "## Reaction Atlas\n",
    "\n",
    "### Pistachio\n",
    "The fingerprints can be used to map the space of chemical reactions:\n",
    "\n",
    "\n",
    "<div style=\"text-align: center\">\n",
    "<img src='images/annotated_atlas.jpg' width='1000'>\n",
    "<p style=\"text-align: center;\"> <b>Figure:</b> Annotated Atlas of the Pistachio test set generated with <a href=\"https://tmap.gdb.tools\">TMAP</a>. </p>\n",
    "</div>\n",
    "\n",
    "\n",
    "### Schneider 50k set - tutorial\n",
    "\n",
    "In the notebooks, we show how to generate an interative reaction atlas for the Schneider 50k set. The end result is similar to this **[interactive Reaction Atlas](https://rxn4chemistry.github.io/rxnfp//tmaps/tmap_ft_10k.html)**.\n",
    "\n",
    "Where you will find different reaction properties highlighted in the different layers:\n",
    "\n",
    "<div style=\"text-align: center\">\n",
    "<img src='images/tmap_properties.jpg' width='800'>\n",
    "<p style=\"text-align: center;\"> <b>Figure:</b> Reaction atlas of 50k data set with different properties highlighted. </p>\n",
    "</div>\n",
    "\n",
    "## USPTO 1k TPL (reaction classification data set)\n",
    "\n",
    "We introduce a new data set for chemical reaction classification called USPTO 1k TPL. USPTO 1k TPL is derived from the [USPTO data base](https://figshare.com/articles/Chemical_reactions_from_US_patents_1976-Sep2016_/5104873) by Lowe. It consists of 445k reactions divided into 1000 template labels. The data set was randomly split into train/valid 90% and test 10%. The labels were obtained by atom-mapping the USPTO data set with [RXNMapper](http://rxnmapper.ai), then applying the [template extraction workflow](https://github.com/reymond-group/CASP-and-dataset-performance) by Thakkar et al. and finally, selecting reactions belonging to the 1000 most frequent template hashes. Those template hashes were taken as class labels. Similarly to the Pistachio data set, USPTO 1k TPL is strongly imbalanced.\n",
    "\n",
    "The data set can be downloaded from: [MappingChemicalReactions](https://ibm.box.com/v/MappingChemicalReactions)."
   ]
  },
  {
   "cell_type": "markdown",
   "metadata": {},
   "source": [
    "## Citation \n",
    "\n",
    "Our work was first presented in the NeurIPS 2019 workshop for [Machine Learning and the Physical Sciences](https://ml4physicalsciences.github.io). And has been published after multiple updates in 2021 in [Nature Machine Intelligence (free access link)](http://rdcu.be/cenmd).\n",
    "\n",
    "```\n",
    "@article{schwaller2021mapping,\n",
    "  title={Mapping the space of chemical reactions using attention-based neural networks},\n",
    "  author={Schwaller, Philippe and Probst, Daniel and Vaucher, Alain C and Nair, Vishnu H and Kreutter, David and Laino, Teodoro and Reymond, Jean-Louis},\n",
    "  journal={Nature Machine Intelligence},\n",
    "  volume={3},\n",
    "  number={2},\n",
    "  pages={144--152},\n",
    "  year={2021},\n",
    "  publisher={Nature Publishing Group}\n",
    "}\n",
    "```\n",
    "\n",
    "RXNFP has been developed in a collaboration between IBM Research Europe and the [Reymond group](http://gdb.unibe.ch) at the University of Bern. The classification models are used on the [RXN for Chemistry](https://rxn.res.ibm.com) platform.\n",
    "\n",
    "Our publication is part of the Nature Portfolio [\"Synthesis and enabling technologies\" collection](https://www.nature.com/collections/ijabjccjec) and was featured in a News & Views on [Transformers for future medicinal chemists](https://www.nature.com/articles/s42256-021-00299-x). \n",
    "\n",
    "Moreover, the `rxnfp` code was reused to train new models on different data as described in [Reusability report: Learning the language of synthetic methods used in medicinal chemistry](https://www.nature.com/articles/s42256-021-00367-2)."
   ]
  },
  {
   "cell_type": "code",
   "execution_count": null,
   "metadata": {},
   "outputs": [],
   "source": []
  }
 ],
 "metadata": {
  "kernelspec": {
   "display_name": "Python 3",
   "language": "python",
   "name": "python3"
  },
  "language_info": {
   "codemirror_mode": {
    "name": "ipython",
    "version": 3
   },
   "file_extension": ".py",
   "mimetype": "text/x-python",
   "name": "python",
   "nbconvert_exporter": "python",
   "pygments_lexer": "ipython3",
   "version": "3.6.13"
  }
 },
 "nbformat": 4,
 "nbformat_minor": 2
}
