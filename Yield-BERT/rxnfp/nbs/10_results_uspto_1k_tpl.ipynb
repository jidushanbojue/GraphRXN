{
 "cells": [
  {
   "cell_type": "markdown",
   "metadata": {},
   "source": [
    "# USPTO 1K TPL confusion matrices\n",
    "> Analysis of the predictions on the USPTO 1K TPL data set for the approaches"
   ]
  },
  {
   "cell_type": "code",
   "execution_count": null,
   "metadata": {},
   "outputs": [],
   "source": [
    "# optional\n",
    "import pickle\n",
    "import faiss\n",
    "import numpy as np\n",
    "import matplotlib.pyplot as plt\n",
    "from pathlib import Path\n",
    "from typing import Optional\n",
    "from collections import Counter\n",
    "from pycm import ConfusionMatrix, Compare"
   ]
  },
  {
   "cell_type": "markdown",
   "metadata": {},
   "source": [
    "### BERT classifier and k-NN classifier predictions \n",
    "\n",
    "To compute the evaluation metrics we use [PyCM](https://www.pycm.ir), which can be installed using `pip install pycm==2.7`. The nearest neighbours for the different fingerprint approaches are computed using [faiss](https://github.com/facebookresearch/faiss) (version 1.5.3). \n",
    "\n",
    "We have already computed confusion matrix, you can download them (together with the data set and the fingerprints) from [MappingChemicalReactions on Box](https://ibm.box.com/v/MappingChemicalReactions)."
   ]
  },
  {
   "cell_type": "code",
   "execution_count": null,
   "metadata": {},
   "outputs": [],
   "source": [
    "# optional\n",
    "def get_nearest_neighbours_prediction(train_X: np.array, train_y: np.array, \n",
    "                                      eval_X: np.array, n_neighbours: int=5) -> list:\n",
    "    \"\"\"\n",
    "    Use faiss to make a K-nearest neighbour prediction\n",
    "    \"\"\"\n",
    "    # Indexing\n",
    "    index = faiss.IndexFlatL2(len(train_X[0]))\n",
    "    index.add(train_X)\n",
    "\n",
    "    # Querying\n",
    "    _, results = index.search(eval_X, n_neighbours)\n",
    "\n",
    "    # Scoring\n",
    "    y_pred = get_pred(train_y, results)\n",
    "    \n",
    "    return y_pred\n",
    "    \n",
    "\n",
    "def get_pred(y: list, results: list) -> list:\n",
    "    \"\"\"\n",
    "    Get most common label from nearest neighbour list\n",
    "    \"\"\"\n",
    "    y_pred = []\n",
    "    for i, r in enumerate(results):\n",
    "        y_pred.append(Counter(y[r]).most_common(1)[0][0])\n",
    "    return y_pred\n",
    "\n",
    "\n",
    "def get_cache_confusion_matrix(\n",
    "    name: str, actual_vector: list, predict_vector: list\n",
    ") -> ConfusionMatrix:\n",
    "    \"\"\"\n",
    "    Make confusion matrix and save it. \n",
    "    \"\"\"\n",
    "    cm_cached = load_confusion_matrix(f\"{name}.pickle\")\n",
    "\n",
    "    if cm_cached is not None:\n",
    "        return cm_cached\n",
    "    \n",
    "    cm = ConfusionMatrix(actual_vector=actual_vector, predict_vector=predict_vector)\n",
    "    cm.save_html(name)\n",
    "    with open(f\"{name}.pickle\", \"wb\") as f:\n",
    "        pickle.dump(cm, f)\n",
    "    return cm\n",
    "\n",
    "def load_confusion_matrix(path: str) -> Optional[ConfusionMatrix]:\n",
    "    \"\"\"\n",
    "    Load confusion matrix if existing.\n",
    "    \"\"\"\n",
    "    if Path(path).is_file():\n",
    "        return pickle.load(open(path, \"rb\"))\n",
    "    return None\n"
   ]
  },
  {
   "cell_type": "markdown",
   "metadata": {},
   "source": [
    "## Generate confusion matrices\n",
    "\n",
    "The precomputed fingerprints and confusion matrices can be downloaded from (include link) "
   ]
  },
  {
   "cell_type": "code",
   "execution_count": null,
   "metadata": {},
   "outputs": [],
   "source": [
    "with open('../data/uspto_1k_TPL/individual_files/test_labels.txt', 'r') as f:\n",
    "    labels_true = [int(line.strip()) for line in f.readlines()]"
   ]
  },
  {
   "cell_type": "markdown",
   "metadata": {},
   "source": [
    "### BERT classifier predictions "
   ]
  },
  {
   "cell_type": "code",
   "execution_count": null,
   "metadata": {},
   "outputs": [],
   "source": [
    "with open('../data/uspto_1k_TPL/individual_files/predictions_bert_classifier.txt', 'r') as f:\n",
    "    labels_bert_class = [int(line.strip()) for line in f.readlines()]"
   ]
  },
  {
   "cell_type": "code",
   "execution_count": null,
   "metadata": {},
   "outputs": [],
   "source": [
    "# optional\n",
    "cm_bert_classifier = get_cache_confusion_matrix('../data/uspto_1k_TPL/results/cm_bert_classifier', labels_true, labels_bert_class)"
   ]
  },
  {
   "cell_type": "code",
   "execution_count": null,
   "metadata": {},
   "outputs": [
    {
     "name": "stdout",
     "output_type": "stream",
     "text": [
      "Accuracy : 0.9893\n",
      "MCC : 0.9893\n",
      "CEN : 0.0056\n"
     ]
    }
   ],
   "source": [
    "# optional\n",
    "print(f\"Accuracy : {cm_bert_classifier.overall_stat['Overall ACC']:.4f}\")\n",
    "print(f\"MCC : {cm_bert_classifier.overall_stat['Overall MCC']:.4f}\")\n",
    "print(f\"CEN : {cm_bert_classifier.overall_stat['Overall CEN']:.4f}\")\n"
   ]
  },
  {
   "cell_type": "markdown",
   "metadata": {},
   "source": [
    "### AP3_folded_256_plus_agent_features fingerprint, 5-NN "
   ]
  },
  {
   "cell_type": "code",
   "execution_count": null,
   "metadata": {},
   "outputs": [],
   "source": [
    "# optional\n",
    "# Get confusion matrix for the Schneider FP\n",
    "if not Path('../data/uspto_1k_TPL/results/cm_schneider_fp_5NN.pickle').is_file():\n",
    "\n",
    "    train_X = np.vstack(\n",
    "            pickle.load(open(\"../data/uspto_1k_TPL/fingerprints/schneider_AP3_folded_256_plus_agent_features_total_df_1000_role.pkl\", \"rb\"))[\n",
    "                \"train_valid\"\n",
    "            ]\n",
    "        ).astype(\"float32\")\n",
    "\n",
    "\n",
    "    train_y = np.array([line.strip() for line in open(\"../data/uspto_1k_TPL/individual_files/train_valid_labels.txt\")])\n",
    "\n",
    "    eval_X = np.vstack(\n",
    "        pickle.load(open(\"../data/uspto_1k_TPL/fingerprints/schneider_AP3_folded_256_plus_agent_features_total_df_1000_role.pkl\", \"rb\"))[\n",
    "            \"test\"\n",
    "        ]\n",
    "    ).astype(\"float32\")\n",
    "\n",
    "    labels_predicted = [int(i) for i in get_nearest_neighbours_prediction(train_X, train_y, eval_X)]"
   ]
  },
  {
   "cell_type": "code",
   "execution_count": null,
   "metadata": {},
   "outputs": [
    {
     "name": "stdout",
     "output_type": "stream",
     "text": [
      "Accuracy : 0.295\n",
      "MCC : 0.292\n",
      "CEN : 0.424\n"
     ]
    }
   ],
   "source": [
    "# optional\n",
    "cm_schneider_fp = cm = get_cache_confusion_matrix('../data/uspto_1k_TPL/results/cm_schneider_fp_5NN', labels_true, labels_predicted)\n",
    "print(f\"Accuracy : {cm_schneider_fp.overall_stat['Overall ACC']:.3f}\")\n",
    "print(f\"MCC : {cm_schneider_fp.overall_stat['Overall MCC']:.3f}\")\n",
    "print(f\"CEN : {cm_schneider_fp.overall_stat['Overall CEN']:.3f}\")"
   ]
  },
  {
   "cell_type": "markdown",
   "metadata": {},
   "source": [
    "### BERT fingerprint pretrained with MLM "
   ]
  },
  {
   "cell_type": "code",
   "execution_count": null,
   "metadata": {},
   "outputs": [],
   "source": [
    "# optional\n",
    "# Get confusion matrix for the pretrained BERT fingerprint\n",
    "if not Path('../data/uspto_1k_TPL/results/cm_bert_mlm_fp_5NN.pickle').is_file():\n",
    "\n",
    "    train_X = np.vstack(\n",
    "            pickle.load(open(\"../data/uspto_1k_TPL/fingerprints/USPTO_1k_TPL_bert_mlm.pkl\", \"rb\"))[\n",
    "                \"train_valid\"\n",
    "            ]\n",
    "        ).astype(\"float32\")\n",
    "\n",
    "\n",
    "    train_y = np.array([line.strip() for line in open(\"../data/uspto_1k_TPL/individual_files/train_valid_labels.txt\")])\n",
    "\n",
    "    eval_X = np.vstack(\n",
    "        pickle.load(open(\"../data/uspto_1k_TPL/fingerprints/USPTO_1k_TPL_bert_mlm.pkl\", \"rb\"))[\n",
    "            \"test\"\n",
    "        ]\n",
    "    ).astype(\"float32\")\n",
    "\n",
    "    labels_predicted = [int(i) for i in get_nearest_neighbours_prediction(train_X, train_y, eval_X)]\n",
    "    \n",
    "    \n",
    "    "
   ]
  },
  {
   "cell_type": "code",
   "execution_count": null,
   "metadata": {},
   "outputs": [
    {
     "name": "stdout",
     "output_type": "stream",
     "text": [
      "Accuracy : 0.340\n",
      "MCC : 0.337\n",
      "CEN : 0.392\n"
     ]
    }
   ],
   "source": [
    "# optional\n",
    "cm_bert_mlm_fp = cm = get_cache_confusion_matrix('../data/uspto_1k_TPL/results/cm_bert_mlm_fp_5NN', labels_true, labels_predicted)\n",
    "print(f\"Accuracy : {cm_bert_mlm_fp.overall_stat['Overall ACC']:.3f}\")\n",
    "print(f\"MCC : {cm_bert_mlm_fp.overall_stat['Overall MCC']:.3f}\")\n",
    "print(f\"CEN : {cm_bert_mlm_fp.overall_stat['Overall CEN']:.3f}\")"
   ]
  },
  {
   "cell_type": "markdown",
   "metadata": {},
   "source": [
    "### BERT fingerprint after fine-tuning on template labels"
   ]
  },
  {
   "cell_type": "code",
   "execution_count": null,
   "metadata": {},
   "outputs": [],
   "source": [
    "# optional\n",
    "# Get confusion matrix for the fine-tuned BERT fingerprint\n",
    "if not Path('../data/uspto_1k_TPL/results/cm_bert_class_fp_5NN.pickle').is_file():\n",
    "\n",
    "    train_X = np.vstack(\n",
    "            pickle.load(open(\"../data/uspto_1k_TPL/fingerprints/USPTO_1k_TPL_bert_class.pkl\", \"rb\"))[\n",
    "                \"train_valid\"\n",
    "            ]\n",
    "        ).astype(\"float32\")\n",
    "\n",
    "\n",
    "    train_y = np.array([line.strip() for line in open(\"../data/uspto_1k_TPL/individual_files/train_valid_labels.txt\")])\n",
    "\n",
    "    eval_X = np.vstack(\n",
    "        pickle.load(open(\"../data/uspto_1k_TPL/fingerprints/USPTO_1k_TPL_bert_class.pkl\", \"rb\"))[\n",
    "            \"test\"\n",
    "        ]\n",
    "    ).astype(\"float32\")\n",
    "\n",
    "    labels_predicted = [int(i) for i in get_nearest_neighbours_prediction(train_X, train_y, eval_X)]"
   ]
  },
  {
   "cell_type": "code",
   "execution_count": null,
   "metadata": {},
   "outputs": [
    {
     "name": "stdout",
     "output_type": "stream",
     "text": [
      "Accuracy : 0.989\n",
      "MCC : 0.989\n",
      "CEN : 0.006\n"
     ]
    }
   ],
   "source": [
    "# optional\n",
    "cm_bert_class_fp = cm = get_cache_confusion_matrix('../data/uspto_1k_TPL/results/cm_bert_class_fp_5NN', labels_true, labels_predicted)\n",
    "print(f\"Accuracy : {cm_bert_class_fp.overall_stat['Overall ACC']:.3f}\")\n",
    "print(f\"MCC : {cm_bert_class_fp.overall_stat['Overall MCC']:.3f}\")\n",
    "print(f\"CEN : {cm_bert_class_fp.overall_stat['Overall CEN']:.3f}\")"
   ]
  }
 ],
 "metadata": {
  "kernelspec": {
   "display_name": "Python 3",
   "language": "python",
   "name": "python3"
  }
 },
 "nbformat": 4,
 "nbformat_minor": 2
}
