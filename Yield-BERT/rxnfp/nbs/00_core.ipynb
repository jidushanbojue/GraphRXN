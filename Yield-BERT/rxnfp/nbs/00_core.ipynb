{
 "cells": [
  {
   "cell_type": "code",
   "execution_count": 1,
   "metadata": {},
   "outputs": [],
   "source": [
    "# default_exp core"
   ]
  },
  {
   "cell_type": "markdown",
   "metadata": {},
   "source": [
    "# Base classes for RXN fingerprints\n",
    "\n",
    "> Define the base classes for the rxnfp library"
   ]
  },
  {
   "cell_type": "code",
   "execution_count": 2,
   "metadata": {},
   "outputs": [],
   "source": [
    "#hide\n",
    "from nbdev.showdoc import *"
   ]
  },
  {
   "cell_type": "code",
   "execution_count": 3,
   "metadata": {},
   "outputs": [],
   "source": [
    "#export\n",
    "from abc import ABC, abstractmethod\n",
    "from typing import List\n"
   ]
  },
  {
   "cell_type": "markdown",
   "metadata": {},
   "source": [
    "## Container "
   ]
  },
  {
   "cell_type": "code",
   "execution_count": 4,
   "metadata": {},
   "outputs": [],
   "source": [
    "#export\n",
    "class RXNFingerprintContainer(ABC):\n",
    "    \"\"\"\n",
    "    Base class for RXN fingerprint containers\n",
    "    - Should facilitate the creation of a LSHForest.\n",
    "    - Query nearest neighbors\n",
    "    \"\"\"\n",
    "\n",
    "    @abstractmethod\n",
    "    def add_fingerprints(self, fingerprints: List, aux_info: List):\n",
    "        \"\"\"\n",
    "        Add fingerprints to the container\n",
    "        \"\"\"\n",
    "\n",
    "    @abstractmethod\n",
    "    def save(self, save_path: str):\n",
    "        \"\"\"\n",
    "        Convert batch of rxn_smiles to fingerprints\n",
    "        \"\"\"\n",
    "\n",
    "    @abstractmethod\n",
    "    def load(self, load_path: str):\n",
    "        \"\"\"\n",
    "        Convert batch of rxn_smiles to fingerprints\n",
    "        \"\"\"\n",
    "\n",
    "    @abstractmethod\n",
    "    def query_nearest_neighbors(self, fingerprint):\n",
    "        \"\"\"\n",
    "        Convert batch of rxn_smiles to fingerprints\n",
    "        \"\"\"\n"
   ]
  },
  {
   "cell_type": "markdown",
   "metadata": {},
   "source": [
    "### FingerprintGenerator"
   ]
  },
  {
   "cell_type": "code",
   "execution_count": 5,
   "metadata": {},
   "outputs": [],
   "source": [
    "#export\n",
    "class FingerprintGenerator(ABC):\n",
    "    \"\"\"\n",
    "    Base class for FingerprintGenerator\n",
    "    \"\"\"\n",
    "\n",
    "    @abstractmethod\n",
    "    def convert(self, rxn_smiles: str) -> List[float]:\n",
    "        \"\"\"\n",
    "        Convert rxn_smiles to fingerprint\n",
    "        \"\"\"\n",
    "\n",
    "    @abstractmethod\n",
    "    def convert_batch(self, rxn_smiles_batch: List[str]) -> List:\n",
    "        \"\"\"\n",
    "        Convert batch of rxn_smiles to fingerprints\n",
    "        \"\"\"\n",
    "\n"
   ]
  }
 ],
 "metadata": {
  "kernelspec": {
   "display_name": "Python 3",
   "language": "python",
   "name": "python3"
  },
  "language_info": {
   "codemirror_mode": {
    "name": "ipython",
    "version": 3
   },
   "file_extension": ".py",
   "mimetype": "text/x-python",
   "name": "python",
   "nbconvert_exporter": "python",
   "pygments_lexer": "ipython3",
   "version": "3.6.13"
  }
 },
 "nbformat": 4,
 "nbformat_minor": 2
}
