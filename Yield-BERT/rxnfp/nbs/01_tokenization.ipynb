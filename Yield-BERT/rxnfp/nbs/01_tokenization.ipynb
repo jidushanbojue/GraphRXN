{
 "cells": [
  {
   "cell_type": "code",
   "execution_count": 1,
   "metadata": {},
   "outputs": [],
   "source": [
    "# default_exp tokenization"
   ]
  },
  {
   "cell_type": "markdown",
   "metadata": {},
   "source": [
    "# Tokenization\n",
    "\n",
    "> Tokenization and SMILES utils\n"
   ]
  },
  {
   "cell_type": "code",
   "execution_count": 1,
   "metadata": {},
   "outputs": [],
   "source": [
    "#hide\n",
    "%load_ext autoreload\n",
    "%autoreload 2"
   ]
  },
  {
   "cell_type": "code",
   "execution_count": 2,
   "metadata": {},
   "outputs": [],
   "source": [
    "#hide\n",
    "from rdkit.Chem import AllChem\n",
    "from rdkit.Chem import Draw\n",
    "\n",
    "# use IPythonConsole for pretty drawings\n",
    "from rdkit.Chem.Draw import IPythonConsole"
   ]
  },
  {
   "cell_type": "code",
   "execution_count": 3,
   "metadata": {},
   "outputs": [],
   "source": [
    "#export\n",
    "import collections\n",
    "import logging\n",
    "import os\n",
    "import re\n",
    "import numpy as np\n",
    "from rdkit import Chem\n",
    "\n",
    "import pkg_resources\n",
    "\n",
    "from typing import List\n",
    "\n",
    "from transformers import BertTokenizer"
   ]
  },
  {
   "cell_type": "markdown",
   "metadata": {},
   "source": [
    "## Reaction SMILES tokenizer\n",
    "\n",
    "We use the same tokenizer as the one used for http://rxnmapper.ai.\n",
    "\n",
    "It is an instance of [Hugginface Transformers](https://github.com/huggingface/transformers) BertTokenizer."
   ]
  },
  {
   "cell_type": "code",
   "execution_count": 4,
   "metadata": {},
   "outputs": [],
   "source": [
    "#export\n",
    "SMI_REGEX_PATTERN =  r\"(\\%\\([0-9]{3}\\)|\\[[^\\]]+]|Br?|Cl?|N|O|S|P|F|I|b|c|n|o|s|p|\\||\\(|\\)|\\.|=|#|-|\\+|\\\\|\\/|:|~|@|\\?|>>?|\\*|\\$|\\%[0-9]{2}|[0-9])\"\n",
    "\n",
    "def get_default_tokenizer():\n",
    "    default_vocab_path = (\n",
    "        pkg_resources.resource_filename(\n",
    "                    \"rxnfp\",\n",
    "                    \"models/transformers/bert_ft_10k_25s/vocab.txt\"\n",
    "                )\n",
    "    )\n",
    "    return SmilesTokenizer(default_vocab_path, do_lower_case=False)\n",
    "\n",
    "\n",
    "class SmilesTokenizer(BertTokenizer):\n",
    "    \"\"\"\n",
    "    Constructs a SmilesBertTokenizer.\n",
    "    Adapted from https://github.com/huggingface/transformers\n",
    "    and https://github.com/rxn4chemistry/rxnfp.\n",
    "    \n",
    "    Args:\n",
    "        vocabulary_file: path to a token per line vocabulary file.\n",
    "    \"\"\"\n",
    "\n",
    "    def __init__(\n",
    "        self,\n",
    "        vocab_file: str,\n",
    "        unk_token: str = \"[UNK]\",\n",
    "        sep_token: str = \"[SEP]\",\n",
    "        pad_token: str = \"[PAD]\",\n",
    "        cls_token: str = \"[CLS]\",\n",
    "        mask_token: str = \"[MASK]\",\n",
    "        do_lower_case=False,\n",
    "        **kwargs,\n",
    "    ) -> None:\n",
    "        \"\"\"Constructs an SmilesTokenizer.\n",
    "        Args:\n",
    "            vocabulary_file: vocabulary file containing tokens.\n",
    "            unk_token: unknown token. Defaults to \"[UNK]\".\n",
    "            sep_token: separator token. Defaults to \"[SEP]\".\n",
    "            pad_token: pad token. Defaults to \"[PAD]\".\n",
    "            cls_token: cls token. Defaults to \"[CLS]\".\n",
    "            mask_token: mask token. Defaults to \"[MASK]\".\n",
    "        \"\"\"\n",
    "        super().__init__(\n",
    "            vocab_file=vocab_file,\n",
    "            unk_token=unk_token,\n",
    "            sep_token=sep_token,\n",
    "            pad_token=pad_token,\n",
    "            cls_token=cls_token,\n",
    "            mask_token=mask_token,\n",
    "            do_lower_case=do_lower_case,\n",
    "            **kwargs,\n",
    "        )\n",
    "        # define tokenization utilities\n",
    "        self.tokenizer = RegexTokenizer()\n",
    "\n",
    "    @property\n",
    "    def vocab_list(self) -> List[str]:\n",
    "        \"\"\"List vocabulary tokens.\n",
    "        Returns:\n",
    "            a list of vocabulary tokens.\n",
    "        \"\"\"\n",
    "        return list(self.vocab.keys())\n",
    "\n",
    "    def _tokenize(self, text: str) -> List[str]:\n",
    "        \"\"\"Tokenize a text representing an enzymatic reaction with AA sequence information.\n",
    "        Args:\n",
    "            text: text to tokenize.\n",
    "        Returns:\n",
    "            extracted tokens.\n",
    "        \"\"\"\n",
    "        return self.tokenizer.tokenize(text)\n",
    "\n",
    "\n",
    "class RegexTokenizer:\n",
    "    \"\"\"Run regex tokenization\"\"\"\n",
    "\n",
    "    def __init__(self, regex_pattern: str=SMI_REGEX_PATTERN) -> None:\n",
    "        \"\"\"Constructs a RegexTokenizer.\n",
    "        Args:\n",
    "            regex_pattern: regex pattern used for tokenization.\n",
    "            suffix: optional suffix for the tokens. Defaults to \"\".\n",
    "        \"\"\"\n",
    "        self.regex_pattern = regex_pattern\n",
    "        self.regex = re.compile(self.regex_pattern)\n",
    "\n",
    "    def tokenize(self, text: str) -> List[str]:\n",
    "        \"\"\"Regex tokenization.\n",
    "        Args:\n",
    "            text: text to tokenize.\n",
    "        Returns:\n",
    "            extracted tokens separated by spaces.\n",
    "        \"\"\"\n",
    "        tokens = [token for token in self.regex.findall(text)]\n",
    "        return tokens\n",
    "    "
   ]
  },
  {
   "cell_type": "markdown",
   "metadata": {},
   "source": [
    "## Smiles Utils "
   ]
  },
  {
   "cell_type": "code",
   "execution_count": 5,
   "metadata": {},
   "outputs": [],
   "source": [
    "#export\n",
    "class NotCanonicalizableSmilesException(ValueError):\n",
    "    pass\n",
    "\n",
    "\n",
    "def canonicalize_smi(smi, remove_atom_mapping=False):\n",
    "    r\"\"\"\n",
    "    Canonicalize SMILES\n",
    "    \"\"\"\n",
    "    mol = Chem.MolFromSmiles(smi)\n",
    "    if not mol:\n",
    "        raise NotCanonicalizableSmilesException(\"Molecule not canonicalizable\")\n",
    "    if remove_atom_mapping:\n",
    "        for atom in mol.GetAtoms():\n",
    "            if atom.HasProp(\"molAtomMapNumber\"):\n",
    "                atom.ClearProp(\"molAtomMapNumber\")\n",
    "    return Chem.MolToSmiles(mol)\n",
    "\n",
    "\n",
    "def process_reaction(rxn):\n",
    "    \"\"\"\n",
    "    Process and canonicalize reaction SMILES \n",
    "    \"\"\"\n",
    "    reactants, reagents, products = rxn.split(\">\")\n",
    "    try:\n",
    "        precursors = [canonicalize_smi(r, True) for r in reactants.split(\".\")]\n",
    "        if len(reagents) > 0:\n",
    "            precursors += [\n",
    "                canonicalize_smi(r, True) for r in reagents.split(\".\")\n",
    "            ]\n",
    "        products = [canonicalize_smi(p, True) for p in products.split(\".\")]\n",
    "    except NotCanonicalizableSmilesException:\n",
    "        return \"\"\n",
    "\n",
    "    joined_precursors = \".\".join(sorted(precursors))\n",
    "    joined_products = \".\".join(sorted(products))\n",
    "    return f\"{joined_precursors}>>{joined_products}\""
   ]
  },
  {
   "cell_type": "markdown",
   "metadata": {},
   "source": [
    "# Examples\n",
    "\n",
    "`process_reaction` removes atom-mapping, canonicalizes the molecules and combines reactant and reactions"
   ]
  },
  {
   "cell_type": "code",
   "execution_count": 6,
   "metadata": {},
   "outputs": [],
   "source": [
    "atom_mapped_rxn = 'F[c:5]1[n:6][cH:7][cH:8][cH:9][c:10]1[F:11].[CH3:1][CH:2]([CH3:3])[SH:4]>CN(C)C=O.O=C([O-])[O-].[K+].[K+]>[CH3:1][CH:2]([CH3:3])[S:4][c:5]1[n:6][cH:7][cH:8][cH:9][c:10]1[F:11]'\n",
    "canonical_rxn = \"CC(C)S.CN(C)C=O.Fc1cccnc1F.O=C([O-])[O-].[K+].[K+]>>CC(C)Sc1ncccc1F\"\n",
    "tokenized_rxn = 'C C ( C ) S . C N ( C ) C = O . F c 1 c c c n c 1 F . O = C ( [O-] ) [O-] . [K+] . [K+] >> C C ( C ) S c 1 n c c c c 1 F'"
   ]
  },
  {
   "cell_type": "code",
   "execution_count": 7,
   "metadata": {},
   "outputs": [
    {
     "data": {
      "image/png": "[encoded data removed]",
      "text/plain": [
       "<rdkit.Chem.rdChemReactions.ChemicalReaction at 0x7f121932b3a0>"
      ]
     },
     "execution_count": 7,
     "metadata": {},
     "output_type": "execute_result"
    }
   ],
   "source": [
    "AllChem.ReactionFromSmarts(atom_mapped_rxn, useSmiles=True)"
   ]
  },
  {
   "cell_type": "code",
   "execution_count": 8,
   "metadata": {},
   "outputs": [],
   "source": [
    "assert canonical_rxn == process_reaction(atom_mapped_rxn)"
   ]
  },
  {
   "cell_type": "code",
   "execution_count": 9,
   "metadata": {},
   "outputs": [
    {
     "data": {
      "image/png": "[encoded data removed]",
      "text/plain": [
       "<rdkit.Chem.rdChemReactions.ChemicalReaction at 0x7f11e6c2c6c0>"
      ]
     },
     "execution_count": 9,
     "metadata": {},
     "output_type": "execute_result"
    }
   ],
   "source": [
    "AllChem.ReactionFromSmarts(canonical_rxn, useSmiles=True)"
   ]
  },
  {
   "cell_type": "markdown",
   "metadata": {},
   "source": [
    "`SmilesTokenizer` splits the reaction SMILES into tokens."
   ]
  },
  {
   "cell_type": "code",
   "execution_count": 10,
   "metadata": {},
   "outputs": [],
   "source": [
    "tokenizer = get_default_tokenizer()\n",
    "assert isinstance(tokenizer, SmilesTokenizer)\n",
    "basic_tokenizer = RegexTokenizer()"
   ]
  },
  {
   "cell_type": "code",
   "execution_count": 11,
   "metadata": {},
   "outputs": [],
   "source": [
    "assert tokenized_rxn == ' '.join(basic_tokenizer.tokenize(canonical_rxn))"
   ]
  },
  {
   "cell_type": "code",
   "execution_count": 12,
   "metadata": {},
   "outputs": [],
   "source": [
    "assert len(tokenizer.vocab_list) == 591"
   ]
  },
  {
   "cell_type": "code",
   "execution_count": null,
   "metadata": {},
   "outputs": [],
   "source": []
  }
 ],
 "metadata": {
  "kernelspec": {
   "display_name": "Python 3",
   "language": "python",
   "name": "python3"
  },
  "language_info": {
   "codemirror_mode": {
    "name": "ipython",
    "version": 3
   },
   "file_extension": ".py",
   "mimetype": "text/x-python",
   "name": "python",
   "nbconvert_exporter": "python",
   "pygments_lexer": "ipython3",
   "version": "3.6.13"
  }
 },
 "nbformat": 4,
 "nbformat_minor": 4
}
